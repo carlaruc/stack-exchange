{
 "cells": [
  {
   "cell_type": "markdown",
   "id": "0cf34641",
   "metadata": {},
   "source": [
    "# Introduction\n",
    "\n",
    "One of our clients is a company that focuses in content creation around the topic of data science. They want to know what kind of questions are popular so that they can publish content that resonates with their audience. The [link Stack Exchange Data Science database](https://data.stackexchange.com/datascience/query/new) is a good source of information that could help our clients make an informed decision."
   ]
  },
  {
   "cell_type": "markdown",
   "id": "577dbce1",
   "metadata": {},
   "source": [
    "## First impressions\n",
    "\n",
    "By taking a quick look at the website's [link Data Science section](https://datascience.stackexchange.com/?tab=hot), it looks like deep learning has and still is a very popular topic. This means that it could be interesting for the company to spend more time creating more content around it."
   ]
  },
  {
   "attachments": {
    "image-2.png": {
     "image/png": "[encoded data removed]"
    }
   },
   "cell_type": "markdown",
   "id": "4f66e005",
   "metadata": {},
   "source": [
    "## Database Query\n",
    " \n",
    "We are going to use the `Posts` database from Stack Exchange to retrieve the information we deem necessary. We are mainly interested in the questions, so that's what we are going to be focusing on. To query the database we need to use Transact-SQL.\n",
    "\n",
    "We run the following query to extract the questions that were ask in 2019.\n",
    "\n",
    "![image-2.png](attachment:image-2.png)"
   ]
  },
  {
   "cell_type": "markdown",
   "id": "5845561a",
   "metadata": {},
   "source": [
    "## Cleaning the dataset"
   ]
  },
  {
   "cell_type": "code",
   "execution_count": 17,
   "id": "f1dd9c5b",
   "metadata": {},
   "outputs": [
    {
     "name": "stdout",
     "output_type": "stream",
     "text": [
      "      Id  PostTypeID         CreationDate  Score  ViewCount  \\\n",
      "0  87593           1  2021-01-06 16:11:35      1         99   \n",
      "1  88373           1  2021-01-23 15:21:49      1         80   \n",
      "2  89414           1  2021-02-15 21:13:14      1         69   \n",
      "3  90368           1  2021-03-08 07:04:29      1         98   \n",
      "4  90553           1  2021-03-12 12:21:47      1         28   \n",
      "\n",
      "                                                Tags  AnswerCount  \\\n",
      "0  <machine-learning><dimensionality-reduction><m...            0   \n",
      "1     <random-forest><prediction><survival-analysis>            0   \n",
      "2           <cnn><dimensionality-reduction><pruning>            0   \n",
      "3        <convolutional-neural-network><convolution>            0   \n",
      "4                <cnn><convolutional-neural-network>            0   \n",
      "\n",
      "   FavoriteCount  \n",
      "0            NaN  \n",
      "1            NaN  \n",
      "2            NaN  \n",
      "3            NaN  \n",
      "4            NaN  \n"
     ]
    }
   ],
   "source": [
    "#Importing the libraries we are going to need\n",
    "import pandas as pd\n",
    "import numpy as np\n",
    "import matplotlib.pyplot as plt\n",
    "import datetime as dt\n",
    "#Enabling plotting within the notebook\n",
    "%matplotlib inline\n",
    "\n",
    "#Reading the csv file that we obtained from the database\n",
    "questions = pd.read_csv(\"2021_questions.csv\")\n",
    "print(questions.head())"
   ]
  },
  {
   "cell_type": "markdown",
   "id": "aa3dfe22",
   "metadata": {},
   "source": [
    "It looks like the `FavoriteCount` column has a lot of NaN values. Let's see if other columns have null values as well."
   ]
  },
  {
   "cell_type": "code",
   "execution_count": 18,
   "id": "b067d37e",
   "metadata": {},
   "outputs": [
    {
     "name": "stdout",
     "output_type": "stream",
     "text": [
      "Id                  0\n",
      "PostTypeID          0\n",
      "CreationDate        0\n",
      "Score               0\n",
      "ViewCount           0\n",
      "Tags                0\n",
      "AnswerCount         0\n",
      "FavoriteCount    4598\n",
      "dtype: int64\n"
     ]
    }
   ],
   "source": [
    "print(questions.isnull().sum())"
   ]
  },
  {
   "cell_type": "code",
   "execution_count": 19,
   "id": "3bec7004",
   "metadata": {},
   "outputs": [
    {
     "data": {
      "text/plain": [
       "(4598, 8)"
      ]
     },
     "execution_count": 19,
     "metadata": {},
     "output_type": "execute_result"
    }
   ],
   "source": [
    "questions.shape"
   ]
  },
  {
   "cell_type": "markdown",
   "id": "05cd8716",
   "metadata": {},
   "source": [
    "The only column that has null values is `FavoriteCount` which logs the number of times each post has been favorited. It seems to also affect all the rows of the dataset. Since it doesn't provide us with any value, we are just going to drop that column. "
   ]
  },
  {
   "cell_type": "code",
   "execution_count": 20,
   "id": "0af91e40",
   "metadata": {},
   "outputs": [],
   "source": [
    "questions = questions.drop(\"FavoriteCount\", axis=1)"
   ]
  },
  {
   "cell_type": "code",
   "execution_count": 21,
   "id": "6d6411a7",
   "metadata": {},
   "outputs": [
    {
     "name": "stdout",
     "output_type": "stream",
     "text": [
      "      Id  PostTypeID         CreationDate  Score  ViewCount  \\\n",
      "0  87593           1  2021-01-06 16:11:35      1         99   \n",
      "1  88373           1  2021-01-23 15:21:49      1         80   \n",
      "2  89414           1  2021-02-15 21:13:14      1         69   \n",
      "3  90368           1  2021-03-08 07:04:29      1         98   \n",
      "4  90553           1  2021-03-12 12:21:47      1         28   \n",
      "\n",
      "                                                Tags  AnswerCount  \n",
      "0  <machine-learning><dimensionality-reduction><m...            0  \n",
      "1     <random-forest><prediction><survival-analysis>            0  \n",
      "2           <cnn><dimensionality-reduction><pruning>            0  \n",
      "3        <convolutional-neural-network><convolution>            0  \n",
      "4                <cnn><convolutional-neural-network>            0  \n"
     ]
    }
   ],
   "source": [
    "print(questions.head())"
   ]
  },
  {
   "cell_type": "code",
   "execution_count": 22,
   "id": "a2ab675c",
   "metadata": {},
   "outputs": [
    {
     "name": "stdout",
     "output_type": "stream",
     "text": [
      "Id               int64\n",
      "PostTypeID       int64\n",
      "CreationDate    object\n",
      "Score            int64\n",
      "ViewCount        int64\n",
      "Tags            object\n",
      "AnswerCount      int64\n",
      "dtype: object\n"
     ]
    }
   ],
   "source": [
    "#Print datatypes of the columns\n",
    "print(questions.dtypes)"
   ]
  },
  {
   "cell_type": "code",
   "execution_count": 23,
   "id": "fb7b1e92",
   "metadata": {},
   "outputs": [],
   "source": [
    "#Transform the CreationDate column into a datetime column\n",
    "questions[\"CreationDate\"] = pd.to_datetime(questions[\"CreationDate\"])"
   ]
  },
  {
   "cell_type": "code",
   "execution_count": 24,
   "id": "31d3f232",
   "metadata": {},
   "outputs": [
    {
     "name": "stdout",
     "output_type": "stream",
     "text": [
      "datetime64[ns]\n"
     ]
    }
   ],
   "source": [
    "print(questions[\"CreationDate\"].dtypes)"
   ]
  },
  {
   "cell_type": "code",
   "execution_count": 25,
   "id": "9d3f5ead",
   "metadata": {},
   "outputs": [],
   "source": [
    "#Change the Tags column to have a more natural syntaxis\n",
    "questions[\"Tags\"] = questions[\"Tags\"].str[0:-1].str.replace(\"<\",\"\").str.replace(\">\",\",\")"
   ]
  },
  {
   "cell_type": "code",
   "execution_count": 26,
   "id": "254ddec9",
   "metadata": {},
   "outputs": [
    {
     "name": "stdout",
     "output_type": "stream",
     "text": [
      "0    machine-learning,dimensionality-reduction,mani...\n",
      "1           random-forest,prediction,survival-analysis\n",
      "2                 cnn,dimensionality-reduction,pruning\n",
      "3             convolutional-neural-network,convolution\n",
      "4                     cnn,convolutional-neural-network\n",
      "Name: Tags, dtype: object\n"
     ]
    }
   ],
   "source": [
    "print(questions[\"Tags\"].head())"
   ]
  },
  {
   "cell_type": "code",
   "execution_count": 27,
   "id": "f1f9249f",
   "metadata": {},
   "outputs": [
    {
     "name": "stdout",
     "output_type": "stream",
     "text": [
      "0    [machine-learning, dimensionality-reduction, m...\n",
      "1       [random-forest, prediction, survival-analysis]\n",
      "2             [cnn, dimensionality-reduction, pruning]\n",
      "3          [convolutional-neural-network, convolution]\n",
      "4                  [cnn, convolutional-neural-network]\n",
      "Name: Tags, dtype: object\n"
     ]
    }
   ],
   "source": [
    "#We want to find out how many times each tag was used to do that we need to split the tags on the comma\n",
    "tags = questions[\"Tags\"].str.split(\",\")\n",
    "print(tags.head())"
   ]
  },
  {
   "cell_type": "markdown",
   "id": "e390816e",
   "metadata": {},
   "source": [
    "The tags have now been split into individual tags. Now we want to be able to count each of their occurrences. To do so we are going to create a dictionary that stores the number of times that each tag is mentioned. Since each row now contains a list, we will need to create a nested loop within the original loop. Since we also want to know how many times the tag was viewed, we will take advantage of the loop and get that information at the same time."
   ]
  },
  {
   "cell_type": "code",
   "execution_count": 28,
   "id": "5c3466c2",
   "metadata": {},
   "outputs": [],
   "source": [
    "#create an empty dictionary to store the count of each of the tags\n",
    "used_tags = {}\n",
    "views = questions[\"ViewCount\"]\n",
    "view_counter = {}\n",
    "\n",
    "for t,v in zip(tags, views):\n",
    "    for tag in t:\n",
    "        if tag in used_tags:\n",
    "            used_tags[tag] +=1\n",
    "            view_counter[tag] += v \n",
    "        else:\n",
    "            used_tags[tag] = 1\n",
    "            view_counter[tag] = v\n"
   ]
  },
  {
   "cell_type": "code",
   "execution_count": 29,
   "id": "46b473b9",
   "metadata": {},
   "outputs": [],
   "source": [
    "#Convert dictionaries into a dataframe of the 10 most used tags\n",
    "tag_counts = pd.Series(used_tags)\n",
    "view_number = pd.Series(view_counter)\n",
    "top_10_tags = pd.DataFrame({\"Times used\": tag_counts,\"Times viewed\": view_number}).sort_values(\"Times used\", ascending = False).head(10)"
   ]
  },
  {
   "cell_type": "code",
   "execution_count": 30,
   "id": "de37a1a6",
   "metadata": {},
   "outputs": [
    {
     "name": "stdout",
     "output_type": "stream",
     "text": [
      "                  Times used  Times viewed\n",
      "machine-learning        1277        827793\n",
      "python                   884       1043504\n",
      "deep-learning            670        538457\n",
      "neural-network           425        261987\n",
      "nlp                      404        294406\n",
      "classification           397        182093\n",
      "keras                    347        376993\n",
      "tensorflow               324        357731\n",
      "scikit-learn             295        327462\n",
      "time-series              248        114705\n"
     ]
    }
   ],
   "source": [
    "print(top_10_tags)"
   ]
  },
  {
   "cell_type": "markdown",
   "id": "3701dced",
   "metadata": {},
   "source": [
    "We can now see that `machine-learning`, `python`, `deep-learning` and `neural network` are extremely popular. However, the ranking on most times used, it is not the same as the most times viewed, with `python` having been viewed more than `machine-learning´"
   ]
  },
  {
   "cell_type": "markdown",
   "id": "ab420cc8",
   "metadata": {},
   "source": [
    "## Data visualisation\n",
    "\n",
    "To better underestand the rankings we are going to create some horizontal bar charts."
   ]
  },
  {
   "cell_type": "code",
   "execution_count": 31,
   "id": "16336ed4",
   "metadata": {},
   "outputs": [
    {
     "data": {
      "image/png": "[encoded data removed]",
      "text/plain": [
       "<Figure size 900x500 with 2 Axes>"
      ]
     },
     "metadata": {},
     "output_type": "display_data"
    }
   ],
   "source": [
    "tick_names = top_10_tags.index #store index of dataframe for y-axis labels\n",
    "width = .34 #width of horizontal bars\n",
    "sides = [\"top\", \"bottom\", \"right\", \"left\"] #list used to turn off chart spines\n",
    "\n",
    "fig,(ax1,ax2) = plt.subplots(1,2, figsize = (9,5), layout =\"constrained\")\n",
    "\n",
    "ax1.barh(tick_names, top_10_tags[\"Times used\"], color =\"green\")\n",
    "for s in sides:\n",
    "    ax1.spines[s].set_visible(False)\n",
    "ax1.set_xticks([])\n",
    "ax1.set_title(\"Machine Learning is the Most Used Tag\")\n",
    "\n",
    "ax2.barh(tick_names, top_10_tags[\"Times viewed\"], color = \"Blue\")\n",
    "for s in sides:\n",
    "    ax2.spines[s].set_visible(False)\n",
    "ax2.set_xticks([])\n",
    "ax2.set_title(\"Python is the Most Viewed Tag\")\n",
    "\n",
    "plt.show()\n"
   ]
  },
  {
   "cell_type": "markdown",
   "id": "85634947",
   "metadata": {},
   "source": [
    "We can now clearly see that although `Machine learning` is the most used tags, `Python` is actually the most viewed tag. However, the top five most used tags are also the top 5 most viewed tags."
   ]
  },
  {
   "attachments": {
    "image-3.png": {
     "image/png": "[encoded data removed]"
    }
   },
   "cell_type": "markdown",
   "id": "fd8b0d67",
   "metadata": {},
   "source": [
    "## Is the interest in deep learning just a fad?\n",
    "\n",
    "We now want to know if the interest in deep learning is only something temporary or if it actually is something people have been interested in, for a long time. To do so we are going to export all the questions ever asked on DSSE during 2019.\n",
    "\n",
    "![image-3.png](attachment:image-3.png)"
   ]
  },
  {
   "cell_type": "code",
   "execution_count": 32,
   "id": "fec68502",
   "metadata": {},
   "outputs": [
    {
     "name": "stdout",
     "output_type": "stream",
     "text": [
      "   PostTypeID  ViewCount                                               Tags\n",
      "0           1         34        <deep-learning><nlp><lstm><text-generation>\n",
      "1           1         74  <neural-network><deep-learning><time-series><a...\n",
      "2           1        620              <machine-learning><time-series><java>\n",
      "3           1        192                <data-mining><text-mining><ranking>\n",
      "4           1        120  <deep-learning><keras><gradient-descent><mathe...\n"
     ]
    }
   ],
   "source": [
    "questions2019 = pd.read_csv(\"2019_questions.csv\")\n",
    "print(questions2019.head())"
   ]
  },
  {
   "cell_type": "code",
   "execution_count": 33,
   "id": "d36cb037",
   "metadata": {},
   "outputs": [
    {
     "name": "stdout",
     "output_type": "stream",
     "text": [
      "(6610, 3)\n"
     ]
    }
   ],
   "source": [
    "print(questions2019.shape)"
   ]
  },
  {
   "cell_type": "code",
   "execution_count": 34,
   "id": "b50aad29",
   "metadata": {},
   "outputs": [
    {
     "name": "stdout",
     "output_type": "stream",
     "text": [
      "PostTypeID    0\n",
      "ViewCount     0\n",
      "Tags          0\n",
      "dtype: int64\n"
     ]
    }
   ],
   "source": [
    "print(questions2019.isnull().sum())"
   ]
  },
  {
   "cell_type": "code",
   "execution_count": 35,
   "id": "1d50a2df",
   "metadata": {},
   "outputs": [],
   "source": [
    "questions2019=questions2019.drop(\"PostTypeID\", axis=1)"
   ]
  },
  {
   "cell_type": "code",
   "execution_count": 36,
   "id": "3a3bd65b",
   "metadata": {},
   "outputs": [
    {
     "name": "stdout",
     "output_type": "stream",
     "text": [
      "   ViewCount                                               Tags\n",
      "0         34        <deep-learning><nlp><lstm><text-generation>\n",
      "1         74  <neural-network><deep-learning><time-series><a...\n",
      "2        620              <machine-learning><time-series><java>\n",
      "3        192                <data-mining><text-mining><ranking>\n",
      "4        120  <deep-learning><keras><gradient-descent><mathe...\n"
     ]
    }
   ],
   "source": [
    "print(questions2019.head())"
   ]
  },
  {
   "cell_type": "code",
   "execution_count": 37,
   "id": "23295235",
   "metadata": {},
   "outputs": [
    {
     "name": "stdout",
     "output_type": "stream",
     "text": [
      "   ViewCount                                               Tags\n",
      "0         34             deep-learning,nlp,lstm,text-generation\n",
      "1         74  neural-network,deep-learning,time-series,anoma...\n",
      "2        620                  machine-learning,time-series,java\n",
      "3        192                    data-mining,text-mining,ranking\n",
      "4        120   deep-learning,keras,gradient-descent,mathematics\n"
     ]
    }
   ],
   "source": [
    "questions2019[\"Tags\"] = questions2019[\"Tags\"].str[0:-1].str.replace(\"<\",\"\").str.replace(\">\",\",\")\n",
    "print(questions2019.head())"
   ]
  },
  {
   "cell_type": "code",
   "execution_count": 38,
   "id": "13a9b70e",
   "metadata": {},
   "outputs": [],
   "source": [
    "tags_2019 = questions2019[\"Tags\"].str.split(\",\")"
   ]
  },
  {
   "cell_type": "code",
   "execution_count": 39,
   "id": "a3f00fe2",
   "metadata": {},
   "outputs": [
    {
     "name": "stdout",
     "output_type": "stream",
     "text": [
      "0          [deep-learning, nlp, lstm, text-generation]\n",
      "1    [neural-network, deep-learning, time-series, a...\n",
      "2                [machine-learning, time-series, java]\n",
      "3                  [data-mining, text-mining, ranking]\n",
      "4    [deep-learning, keras, gradient-descent, mathe...\n",
      "Name: Tags, dtype: object\n"
     ]
    }
   ],
   "source": [
    "print(tags_2019.head())"
   ]
  },
  {
   "cell_type": "code",
   "execution_count": 40,
   "id": "60da64a4",
   "metadata": {},
   "outputs": [],
   "source": [
    "views2019 = questions2019[\"ViewCount\"]\n",
    "used_tags2019 = {}\n",
    "view_counter2019 = {}\n",
    "\n",
    "for t,v in zip(tags_2019,views2019):\n",
    "    for tag in t:\n",
    "        if tag in used_tags2019:\n",
    "            used_tags2019[tag] += 1\n",
    "            view_counter2019[tag] += v\n",
    "        else:\n",
    "            used_tags2019[tag] = 1\n",
    "            view_counter2019[tag] = v"
   ]
  },
  {
   "cell_type": "code",
   "execution_count": 41,
   "id": "38fe2ec7",
   "metadata": {},
   "outputs": [],
   "source": [
    "tag_counts2019 = pd.Series(used_tags2019)\n",
    "view_counts2019 = pd.Series(view_counter2019)\n",
    "top_10_tags2019 = pd.DataFrame({\"Times used\":tag_counts2019, \"Times viewed\":view_counts2019}).sort_values(\"Times used\", ascending=False).head(10)"
   ]
  },
  {
   "cell_type": "code",
   "execution_count": 42,
   "id": "df925bd7",
   "metadata": {},
   "outputs": [
    {
     "name": "stdout",
     "output_type": "stream",
     "text": [
      "                  Times used  Times viewed\n",
      "machine-learning        2082       3515320\n",
      "python                  1412       4571331\n",
      "deep-learning            869       1955755\n",
      "neural-network           805       1847412\n",
      "keras                    686       1947984\n",
      "classification           565        942147\n",
      "scikit-learn             440       1294285\n",
      "nlp                      436        821551\n",
      "tensorflow               397       1062943\n",
      "cnn                      373        805221\n"
     ]
    }
   ],
   "source": [
    "print(top_10_tags2019)"
   ]
  },
  {
   "cell_type": "markdown",
   "id": "7c0cb732",
   "metadata": {},
   "source": [
    "By the looks of it things in 2021 were very similar to those in 2019. The overall volume of questions might have been different, but the top 10 topics are still very similar."
   ]
  },
  {
   "cell_type": "code",
   "execution_count": 43,
   "id": "26b658f8",
   "metadata": {},
   "outputs": [],
   "source": [
    "most_used = pd.merge (top_10_tags, top_10_tags2019, how=\"outer\", left_index=True, right_index=True)"
   ]
  },
  {
   "cell_type": "code",
   "execution_count": 44,
   "id": "5e42b2ab",
   "metadata": {},
   "outputs": [
    {
     "name": "stdout",
     "output_type": "stream",
     "text": [
      "                  Times used_x  Times viewed_x  Times used_y  Times viewed_y\n",
      "classification           397.0        182093.0         565.0        942147.0\n",
      "cnn                        NaN             NaN         373.0        805221.0\n",
      "deep-learning            670.0        538457.0         869.0       1955755.0\n",
      "keras                    347.0        376993.0         686.0       1947984.0\n",
      "machine-learning        1277.0        827793.0        2082.0       3515320.0\n",
      "neural-network           425.0        261987.0         805.0       1847412.0\n",
      "nlp                      404.0        294406.0         436.0        821551.0\n",
      "python                   884.0       1043504.0        1412.0       4571331.0\n",
      "scikit-learn             295.0        327462.0         440.0       1294285.0\n",
      "tensorflow               324.0        357731.0         397.0       1062943.0\n",
      "time-series              248.0        114705.0           NaN             NaN\n"
     ]
    }
   ],
   "source": [
    "print(most_used)"
   ]
  },
  {
   "cell_type": "code",
   "execution_count": 47,
   "id": "0705abd8",
   "metadata": {},
   "outputs": [],
   "source": [
    "most_used = most_used.rename({\"Times used_x\":\"Times used_2021\",\"Times used_y\":\"Times used_2019\",\"Times viewed_x\":\"Times viewed_2021\", \"Times viewed_y\":\"Times viewed_2019\"}, axis=1).sort_values(\"Times used_2021\",ascending=False)"
   ]
  },
  {
   "cell_type": "code",
   "execution_count": 48,
   "id": "e02867b6",
   "metadata": {},
   "outputs": [
    {
     "name": "stdout",
     "output_type": "stream",
     "text": [
      "                  Times used_2021  Times viewed_2021  Times used_2019  \\\n",
      "machine-learning           1277.0           827793.0           2082.0   \n",
      "python                      884.0          1043504.0           1412.0   \n",
      "deep-learning               670.0           538457.0            869.0   \n",
      "neural-network              425.0           261987.0            805.0   \n",
      "nlp                         404.0           294406.0            436.0   \n",
      "classification              397.0           182093.0            565.0   \n",
      "keras                       347.0           376993.0            686.0   \n",
      "tensorflow                  324.0           357731.0            397.0   \n",
      "scikit-learn                295.0           327462.0            440.0   \n",
      "time-series                 248.0           114705.0              NaN   \n",
      "cnn                           NaN                NaN            373.0   \n",
      "\n",
      "                  Times viewed_2019  \n",
      "machine-learning          3515320.0  \n",
      "python                    4571331.0  \n",
      "deep-learning             1955755.0  \n",
      "neural-network            1847412.0  \n",
      "nlp                        821551.0  \n",
      "classification             942147.0  \n",
      "keras                     1947984.0  \n",
      "tensorflow                1062943.0  \n",
      "scikit-learn              1294285.0  \n",
      "time-series                     NaN  \n",
      "cnn                        805221.0  \n"
     ]
    }
   ],
   "source": [
    "print(most_used)"
   ]
  },
  {
   "cell_type": "markdown",
   "id": "8728fa68",
   "metadata": {},
   "source": [
    "## Conclusion\n",
    "The most popular topics have been consistent over the years."
   ]
  }
 ],
 "metadata": {
  "kernelspec": {
   "display_name": "Python 3 (ipykernel)",
   "language": "python",
   "name": "python3"
  },
  "language_info": {
   "codemirror_mode": {
    "name": "ipython",
    "version": 3
   },
   "file_extension": ".py",
   "mimetype": "text/x-python",
   "name": "python",
   "nbconvert_exporter": "python",
   "pygments_lexer": "ipython3",
   "version": "3.9.13"
  }
 },
 "nbformat": 4,
 "nbformat_minor": 5
}
